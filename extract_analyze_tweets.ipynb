{
 "cells": [
  {
   "cell_type": "markdown",
   "metadata": {},
   "source": [
    "# Extrai tweets"
   ]
  },
  {
   "cell_type": "code",
   "execution_count": 1,
   "metadata": {
    "scrolled": true
   },
   "outputs": [
    {
     "name": "stdout",
     "output_type": "stream",
     "text": [
      "Requirement already satisfied: tweepy in /home/neylson/anaconda3/lib/python3.8/site-packages (3.9.0)\n",
      "Collecting datetime\n",
      "  Using cached DateTime-4.3-py2.py3-none-any.whl (60 kB)\n",
      "Requirement already satisfied: six>=1.10.0 in /home/neylson/anaconda3/lib/python3.8/site-packages (from tweepy) (1.15.0)\n",
      "Requirement already satisfied: requests[socks]>=2.11.1 in /home/neylson/anaconda3/lib/python3.8/site-packages (from tweepy) (2.24.0)\n",
      "Requirement already satisfied: requests-oauthlib>=0.7.0 in /home/neylson/anaconda3/lib/python3.8/site-packages (from tweepy) (1.3.0)\n",
      "Requirement already satisfied: pytz in /home/neylson/anaconda3/lib/python3.8/site-packages (from datetime) (2020.1)\n",
      "Requirement already satisfied: zope.interface in /home/neylson/anaconda3/lib/python3.8/site-packages (from datetime) (4.7.1)\n",
      "Requirement already satisfied: certifi>=2017.4.17 in /home/neylson/anaconda3/lib/python3.8/site-packages (from requests[socks]>=2.11.1->tweepy) (2020.6.20)\n",
      "Requirement already satisfied: idna<3,>=2.5 in /home/neylson/anaconda3/lib/python3.8/site-packages (from requests[socks]>=2.11.1->tweepy) (2.10)\n",
      "Requirement already satisfied: urllib3!=1.25.0,!=1.25.1,<1.26,>=1.21.1 in /home/neylson/anaconda3/lib/python3.8/site-packages (from requests[socks]>=2.11.1->tweepy) (1.25.9)\n",
      "Requirement already satisfied: chardet<4,>=3.0.2 in /home/neylson/anaconda3/lib/python3.8/site-packages (from requests[socks]>=2.11.1->tweepy) (3.0.4)\n",
      "Requirement already satisfied: PySocks!=1.5.7,>=1.5.6; extra == \"socks\" in /home/neylson/anaconda3/lib/python3.8/site-packages (from requests[socks]>=2.11.1->tweepy) (1.7.1)\n",
      "Requirement already satisfied: oauthlib>=3.0.0 in /home/neylson/anaconda3/lib/python3.8/site-packages (from requests-oauthlib>=0.7.0->tweepy) (3.1.0)\n",
      "Requirement already satisfied: setuptools in /home/neylson/anaconda3/lib/python3.8/site-packages (from zope.interface->datetime) (49.2.0.post20200714)\n",
      "Installing collected packages: datetime\n",
      "Successfully installed datetime-4.3\n"
     ]
    }
   ],
   "source": [
    "!pip install tweepy datetime"
   ]
  },
  {
   "cell_type": "markdown",
   "metadata": {},
   "source": [
    "## Play!"
   ]
  },
  {
   "cell_type": "code",
   "execution_count": 1,
   "metadata": {},
   "outputs": [
    {
     "name": "stdout",
     "output_type": "stream",
     "text": [
      "^C\n",
      "Traceback (most recent call last):\n",
      "  File \"get_tweets.py\", line 36, in <module>\n",
      "    stream.filter(track=[\"Trump\"])\n",
      "  File \"/home/neylson/anaconda3/lib/python3.8/site-packages/tweepy/streaming.py\", line 474, in filter\n",
      "    self._start(is_async)\n",
      "  File \"/home/neylson/anaconda3/lib/python3.8/site-packages/tweepy/streaming.py\", line 389, in _start\n",
      "    self._run()\n",
      "  File \"/home/neylson/anaconda3/lib/python3.8/site-packages/tweepy/streaming.py\", line 289, in _run\n",
      "    self._read_loop(resp)\n",
      "  File \"/home/neylson/anaconda3/lib/python3.8/site-packages/tweepy/streaming.py\", line 339, in _read_loop\n",
      "    line = buf.read_line()\n",
      "  File \"/home/neylson/anaconda3/lib/python3.8/site-packages/tweepy/streaming.py\", line 200, in read_line\n",
      "    self._buffer += self._stream.read(self._chunk_size)\n",
      "  File \"/home/neylson/anaconda3/lib/python3.8/site-packages/urllib3/response.py\", line 519, in read\n",
      "    data = self._fp.read(amt) if not fp_closed else b\"\"\n",
      "  File \"/home/neylson/anaconda3/lib/python3.8/http/client.py\", line 454, in read\n",
      "    n = self.readinto(b)\n",
      "  File \"/home/neylson/anaconda3/lib/python3.8/http/client.py\", line 488, in readinto\n",
      "    return self._readinto_chunked(b)\n",
      "  File \"/home/neylson/anaconda3/lib/python3.8/http/client.py\", line 583, in _readinto_chunked\n",
      "    chunk_left = self._get_chunk_left()\n",
      "  File \"/home/neylson/anaconda3/lib/python3.8/http/client.py\", line 551, in _get_chunk_left\n",
      "    chunk_left = self._read_next_chunk_size()\n",
      "  File \"/home/neylson/anaconda3/lib/python3.8/http/client.py\", line 511, in _read_next_chunk_size\n",
      "    line = self.fp.readline(_MAXLINE + 1)\n",
      "  File \"/home/neylson/anaconda3/lib/python3.8/socket.py\", line 669, in readinto\n",
      "    return self._sock.recv_into(b)\n",
      "  File \"/home/neylson/anaconda3/lib/python3.8/ssl.py\", line 1241, in recv_into\n",
      "    return self.read(nbytes, buffer)\n",
      "  File \"/home/neylson/anaconda3/lib/python3.8/ssl.py\", line 1099, in read\n",
      "    return self._sslobj.read(len, buffer)\n",
      "KeyboardInterrupt\n"
     ]
    }
   ],
   "source": [
    "!python get_tweets.py"
   ]
  },
  {
   "cell_type": "markdown",
   "metadata": {},
   "source": [
    "# Entendendo a estrutura do JSON"
   ]
  },
  {
   "cell_type": "code",
   "execution_count": 1,
   "metadata": {},
   "outputs": [],
   "source": [
    "import json"
   ]
  },
  {
   "cell_type": "code",
   "execution_count": 2,
   "metadata": {},
   "outputs": [],
   "source": [
    "# Abrir o arquivo de tweets e ler as linhas\n",
    "with open('collected_tweets_2020-11-12-21-20-27.txt', 'r') as file:\n",
    "    tweets = file.readlines()"
   ]
  },
  {
   "cell_type": "code",
   "execution_count": 9,
   "metadata": {},
   "outputs": [],
   "source": [
    "# Fazendo o parse do tweet para um formato json e exporta arquivo\n",
    "with open('tweet.json', 'w') as f:\n",
    "    json.dump(\n",
    "        json.loads( json.loads( tweets[0] ) ), \n",
    "        f\n",
    "    )"
   ]
  },
  {
   "cell_type": "code",
   "execution_count": null,
   "metadata": {},
   "outputs": [],
   "source": [
    "json.loads(\n",
    "    json.loads( tweets[0] )\n",
    ")"
   ]
  },
  {
   "cell_type": "code",
   "execution_count": 12,
   "metadata": {},
   "outputs": [
    {
     "data": {
      "text/plain": [
       "[0, 1, 2, 3, 4, 5, 6, 7, 8, 9]"
      ]
     },
     "execution_count": 12,
     "metadata": {},
     "output_type": "execute_result"
    }
   ],
   "source": [
    "[i for i in range(10)]"
   ]
  },
  {
   "cell_type": "code",
   "execution_count": 13,
   "metadata": {},
   "outputs": [],
   "source": [
    "parsed_tweets = [json.loads( json.loads(i) ) for i in tweets]"
   ]
  },
  {
   "cell_type": "code",
   "execution_count": 17,
   "metadata": {},
   "outputs": [
    {
     "data": {
      "text/plain": [
       "4997"
      ]
     },
     "execution_count": 17,
     "metadata": {},
     "output_type": "execute_result"
    }
   ],
   "source": [
    "# Quantidade de tweets coletados\n",
    "len(parsed_tweets)"
   ]
  },
  {
   "cell_type": "markdown",
   "metadata": {},
   "source": [
    "# Acessando as chaves do JSON (dicionário)"
   ]
  },
  {
   "cell_type": "code",
   "execution_count": 21,
   "metadata": {},
   "outputs": [],
   "source": [
    "primeirotweet = parsed_tweets[0]"
   ]
  },
  {
   "cell_type": "code",
   "execution_count": 35,
   "metadata": {},
   "outputs": [
    {
     "data": {
      "text/plain": [
       "('id', 1327043598156783618)"
      ]
     },
     "execution_count": 35,
     "metadata": {},
     "output_type": "execute_result"
    }
   ],
   "source": [
    "list(primeirotweet.items())[1]"
   ]
  },
  {
   "cell_type": "code",
   "execution_count": 36,
   "metadata": {},
   "outputs": [
    {
     "data": {
      "text/plain": [
       "'RT @WheezyNC: @JohnCornyn Today’s patriots are the election officials and volunteers who did their jobs in the face of vitriolic threats/li…'"
      ]
     },
     "execution_count": 36,
     "metadata": {},
     "output_type": "execute_result"
    }
   ],
   "source": [
    "# Acessa o texto do tweet\n",
    "# Chave de primeiro nível (root)\n",
    "primeirotweet[\"text\"]"
   ]
  },
  {
   "cell_type": "code",
   "execution_count": 45,
   "metadata": {},
   "outputs": [
    {
     "data": {
      "text/plain": [
       "{'id': 36548978,\n",
       " 'id_str': '36548978',\n",
       " 'name': \"It's all over but the waiting...📤📥\",\n",
       " 'screen_name': 'Teresa_Denemy',\n",
       " 'location': 'Southwestern Michigan',\n",
       " 'url': None,\n",
       " 'description': \"learning to use my voice, cause it was always...polite people never talk politics and don't talk politics around Grandpa...\",\n",
       " 'translator_type': 'none',\n",
       " 'protected': False,\n",
       " 'verified': False,\n",
       " 'followers_count': 803,\n",
       " 'friends_count': 635,\n",
       " 'listed_count': 1,\n",
       " 'favourites_count': 258686,\n",
       " 'statuses_count': 85123,\n",
       " 'created_at': 'Thu Apr 30 01:19:05 +0000 2009',\n",
       " 'utc_offset': None,\n",
       " 'time_zone': None,\n",
       " 'geo_enabled': False,\n",
       " 'lang': None,\n",
       " 'contributors_enabled': False,\n",
       " 'is_translator': False,\n",
       " 'profile_background_color': '9AE4E8',\n",
       " 'profile_background_image_url': 'http://abs.twimg.com/images/themes/theme16/bg.gif',\n",
       " 'profile_background_image_url_https': 'https://abs.twimg.com/images/themes/theme16/bg.gif',\n",
       " 'profile_background_tile': False,\n",
       " 'profile_link_color': '0084B4',\n",
       " 'profile_sidebar_border_color': 'BDDCAD',\n",
       " 'profile_sidebar_fill_color': 'DDFFCC',\n",
       " 'profile_text_color': '333333',\n",
       " 'profile_use_background_image': True,\n",
       " 'profile_image_url': 'http://pbs.twimg.com/profile_images/426903307/TDenemy_ProfilePhoto_normal.gif',\n",
       " 'profile_image_url_https': 'https://pbs.twimg.com/profile_images/426903307/TDenemy_ProfilePhoto_normal.gif',\n",
       " 'default_profile': False,\n",
       " 'default_profile_image': False,\n",
       " 'following': None,\n",
       " 'follow_request_sent': None,\n",
       " 'notifications': None}"
      ]
     },
     "execution_count": 45,
     "metadata": {},
     "output_type": "execute_result"
    }
   ],
   "source": [
    "# Acessar a chave user\n",
    "primeirotweet['user']"
   ]
  },
  {
   "cell_type": "code",
   "execution_count": 46,
   "metadata": {},
   "outputs": [
    {
     "data": {
      "text/plain": [
       "'Teresa_Denemy'"
      ]
     },
     "execution_count": 46,
     "metadata": {},
     "output_type": "execute_result"
    }
   ],
   "source": [
    "# Acessando o screen_name do user\n",
    "primeirotweet['user']['screen_name']"
   ]
  },
  {
   "cell_type": "code",
   "execution_count": 48,
   "metadata": {},
   "outputs": [
    {
     "data": {
      "text/plain": [
       "'Thu Nov 12 20:46:50 +0000 2020'"
      ]
     },
     "execution_count": 48,
     "metadata": {},
     "output_type": "execute_result"
    }
   ],
   "source": [
    "# Vamos pegar a informação do tweet original\n",
    "primeirotweet['retweeted_status']['created_at']"
   ]
  },
  {
   "cell_type": "code",
   "execution_count": 55,
   "metadata": {},
   "outputs": [
    {
     "data": {
      "text/plain": [
       "'Senator John Cornyn'"
      ]
     },
     "execution_count": 55,
     "metadata": {},
     "output_type": "execute_result"
    }
   ],
   "source": [
    "# Pegando o name do primeiro usuário mencionado no tweet original\n",
    "primeirotweet['retweeted_status']['entities']['user_mentions'][0]['name']"
   ]
  }
 ],
 "metadata": {
  "kernelspec": {
   "display_name": "Python 3",
   "language": "python",
   "name": "python3"
  },
  "language_info": {
   "codemirror_mode": {
    "name": "ipython",
    "version": 3
   },
   "file_extension": ".py",
   "mimetype": "text/x-python",
   "name": "python",
   "nbconvert_exporter": "python",
   "pygments_lexer": "ipython3",
   "version": "3.8.3"
  }
 },
 "nbformat": 4,
 "nbformat_minor": 4
}
