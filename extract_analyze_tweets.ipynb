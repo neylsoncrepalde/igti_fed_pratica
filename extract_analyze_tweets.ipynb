{
 "cells": [
  {
   "cell_type": "markdown",
   "metadata": {},
   "source": [
    "# Extrai tweets"
   ]
  },
  {
   "cell_type": "code",
   "execution_count": 1,
   "metadata": {
    "scrolled": true
   },
   "outputs": [
    {
     "name": "stdout",
     "output_type": "stream",
     "text": [
      "Requirement already satisfied: tweepy in /home/neylson/anaconda3/lib/python3.8/site-packages (3.9.0)\n",
      "Collecting datetime\n",
      "  Using cached DateTime-4.3-py2.py3-none-any.whl (60 kB)\n",
      "Requirement already satisfied: six>=1.10.0 in /home/neylson/anaconda3/lib/python3.8/site-packages (from tweepy) (1.15.0)\n",
      "Requirement already satisfied: requests[socks]>=2.11.1 in /home/neylson/anaconda3/lib/python3.8/site-packages (from tweepy) (2.24.0)\n",
      "Requirement already satisfied: requests-oauthlib>=0.7.0 in /home/neylson/anaconda3/lib/python3.8/site-packages (from tweepy) (1.3.0)\n",
      "Requirement already satisfied: pytz in /home/neylson/anaconda3/lib/python3.8/site-packages (from datetime) (2020.1)\n",
      "Requirement already satisfied: zope.interface in /home/neylson/anaconda3/lib/python3.8/site-packages (from datetime) (4.7.1)\n",
      "Requirement already satisfied: certifi>=2017.4.17 in /home/neylson/anaconda3/lib/python3.8/site-packages (from requests[socks]>=2.11.1->tweepy) (2020.6.20)\n",
      "Requirement already satisfied: idna<3,>=2.5 in /home/neylson/anaconda3/lib/python3.8/site-packages (from requests[socks]>=2.11.1->tweepy) (2.10)\n",
      "Requirement already satisfied: urllib3!=1.25.0,!=1.25.1,<1.26,>=1.21.1 in /home/neylson/anaconda3/lib/python3.8/site-packages (from requests[socks]>=2.11.1->tweepy) (1.25.9)\n",
      "Requirement already satisfied: chardet<4,>=3.0.2 in /home/neylson/anaconda3/lib/python3.8/site-packages (from requests[socks]>=2.11.1->tweepy) (3.0.4)\n",
      "Requirement already satisfied: PySocks!=1.5.7,>=1.5.6; extra == \"socks\" in /home/neylson/anaconda3/lib/python3.8/site-packages (from requests[socks]>=2.11.1->tweepy) (1.7.1)\n",
      "Requirement already satisfied: oauthlib>=3.0.0 in /home/neylson/anaconda3/lib/python3.8/site-packages (from requests-oauthlib>=0.7.0->tweepy) (3.1.0)\n",
      "Requirement already satisfied: setuptools in /home/neylson/anaconda3/lib/python3.8/site-packages (from zope.interface->datetime) (49.2.0.post20200714)\n",
      "Installing collected packages: datetime\n",
      "Successfully installed datetime-4.3\n"
     ]
    }
   ],
   "source": [
    "!pip install tweepy datetime"
   ]
  },
  {
   "cell_type": "markdown",
   "metadata": {},
   "source": [
    "## Play!"
   ]
  },
  {
   "cell_type": "code",
   "execution_count": 1,
   "metadata": {},
   "outputs": [
    {
     "name": "stdout",
     "output_type": "stream",
     "text": [
      "^C\n",
      "Traceback (most recent call last):\n",
      "  File \"get_tweets.py\", line 36, in <module>\n",
      "    stream.filter(track=[\"Trump\"])\n",
      "  File \"/home/neylson/anaconda3/lib/python3.8/site-packages/tweepy/streaming.py\", line 474, in filter\n",
      "    self._start(is_async)\n",
      "  File \"/home/neylson/anaconda3/lib/python3.8/site-packages/tweepy/streaming.py\", line 389, in _start\n",
      "    self._run()\n",
      "  File \"/home/neylson/anaconda3/lib/python3.8/site-packages/tweepy/streaming.py\", line 289, in _run\n",
      "    self._read_loop(resp)\n",
      "  File \"/home/neylson/anaconda3/lib/python3.8/site-packages/tweepy/streaming.py\", line 339, in _read_loop\n",
      "    line = buf.read_line()\n",
      "  File \"/home/neylson/anaconda3/lib/python3.8/site-packages/tweepy/streaming.py\", line 200, in read_line\n",
      "    self._buffer += self._stream.read(self._chunk_size)\n",
      "  File \"/home/neylson/anaconda3/lib/python3.8/site-packages/urllib3/response.py\", line 519, in read\n",
      "    data = self._fp.read(amt) if not fp_closed else b\"\"\n",
      "  File \"/home/neylson/anaconda3/lib/python3.8/http/client.py\", line 454, in read\n",
      "    n = self.readinto(b)\n",
      "  File \"/home/neylson/anaconda3/lib/python3.8/http/client.py\", line 488, in readinto\n",
      "    return self._readinto_chunked(b)\n",
      "  File \"/home/neylson/anaconda3/lib/python3.8/http/client.py\", line 583, in _readinto_chunked\n",
      "    chunk_left = self._get_chunk_left()\n",
      "  File \"/home/neylson/anaconda3/lib/python3.8/http/client.py\", line 551, in _get_chunk_left\n",
      "    chunk_left = self._read_next_chunk_size()\n",
      "  File \"/home/neylson/anaconda3/lib/python3.8/http/client.py\", line 511, in _read_next_chunk_size\n",
      "    line = self.fp.readline(_MAXLINE + 1)\n",
      "  File \"/home/neylson/anaconda3/lib/python3.8/socket.py\", line 669, in readinto\n",
      "    return self._sock.recv_into(b)\n",
      "  File \"/home/neylson/anaconda3/lib/python3.8/ssl.py\", line 1241, in recv_into\n",
      "    return self.read(nbytes, buffer)\n",
      "  File \"/home/neylson/anaconda3/lib/python3.8/ssl.py\", line 1099, in read\n",
      "    return self._sslobj.read(len, buffer)\n",
      "KeyboardInterrupt\n"
     ]
    }
   ],
   "source": [
    "!python get_tweets.py"
   ]
  }
 ],
 "metadata": {
  "kernelspec": {
   "display_name": "Python 3",
   "language": "python",
   "name": "python3"
  },
  "language_info": {
   "codemirror_mode": {
    "name": "ipython",
    "version": 3
   },
   "file_extension": ".py",
   "mimetype": "text/x-python",
   "name": "python",
   "nbconvert_exporter": "python",
   "pygments_lexer": "ipython3",
   "version": "3.8.3"
  }
 },
 "nbformat": 4,
 "nbformat_minor": 4
}
