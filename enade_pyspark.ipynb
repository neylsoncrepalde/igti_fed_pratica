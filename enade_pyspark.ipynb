{
 "cells": [
  {
   "cell_type": "markdown",
   "metadata": {},
   "source": [
    "# Enade - PySpark"
   ]
  },
  {
   "cell_type": "code",
   "execution_count": 1,
   "metadata": {},
   "outputs": [],
   "source": [
    "import findspark\n",
    "findspark.init()"
   ]
  },
  {
   "cell_type": "code",
   "execution_count": 2,
   "metadata": {},
   "outputs": [
    {
     "data": {
      "text/plain": [
       "'C:\\\\Spark\\\\spark-3.0.1-bin-hadoop2.7'"
      ]
     },
     "execution_count": 2,
     "metadata": {},
     "output_type": "execute_result"
    }
   ],
   "source": [
    "findspark.find()"
   ]
  },
  {
   "cell_type": "code",
   "execution_count": 4,
   "metadata": {},
   "outputs": [],
   "source": [
    "import pyspark\n",
    "from pyspark import SparkContext, SparkConf\n",
    "from pyspark.sql import SparkSession\n",
    "from pyspark.sql.functions import col, mean, lit, regexp_replace\n",
    "\n",
    "conf = SparkConf().setAppName('enade2019').setMaster('local')\n",
    "sc = SparkContext(conf=conf)\n",
    "spark = SparkSession(sc)"
   ]
  },
  {
   "cell_type": "code",
   "execution_count": 7,
   "metadata": {},
   "outputs": [],
   "source": [
    "df = spark.read\\\n",
    "    .options(delimiter=';', inferSchema=True, header=True)\\\n",
    "    .csv(\"./enade2019/microdados_enade_2019/2019/3.DADOS/microdados_enade_2019.txt\")"
   ]
  },
  {
   "cell_type": "code",
   "execution_count": 8,
   "metadata": {},
   "outputs": [
    {
     "name": "stdout",
     "output_type": "stream",
     "text": [
      "root\n",
      " |-- NU_ANO: integer (nullable = true)\n",
      " |-- CO_IES: integer (nullable = true)\n",
      " |-- CO_CATEGAD: integer (nullable = true)\n",
      " |-- CO_ORGACAD: integer (nullable = true)\n",
      " |-- CO_GRUPO: integer (nullable = true)\n",
      " |-- CO_CURSO: integer (nullable = true)\n",
      " |-- CO_MODALIDADE: integer (nullable = true)\n",
      " |-- CO_MUNIC_CURSO: integer (nullable = true)\n",
      " |-- CO_UF_CURSO: integer (nullable = true)\n",
      " |-- CO_REGIAO_CURSO: integer (nullable = true)\n",
      " |-- NU_IDADE: integer (nullable = true)\n",
      " |-- TP_SEXO: string (nullable = true)\n",
      " |-- ANO_FIM_EM: integer (nullable = true)\n",
      " |-- ANO_IN_GRAD: string (nullable = true)\n",
      " |-- CO_TURNO_GRADUACAO: string (nullable = true)\n",
      " |-- TP_INSCRICAO_ADM: integer (nullable = true)\n",
      " |-- TP_INSCRICAO: integer (nullable = true)\n",
      " |-- NU_ITEM_OFG: integer (nullable = true)\n",
      " |-- NU_ITEM_OFG_Z: integer (nullable = true)\n",
      " |-- NU_ITEM_OFG_X: integer (nullable = true)\n",
      " |-- NU_ITEM_OFG_N: integer (nullable = true)\n",
      " |-- NU_ITEM_OCE: integer (nullable = true)\n",
      " |-- NU_ITEM_OCE_Z: integer (nullable = true)\n",
      " |-- NU_ITEM_OCE_X: integer (nullable = true)\n",
      " |-- NU_ITEM_OCE_N: integer (nullable = true)\n",
      " |-- DS_VT_GAB_OFG_ORIG: string (nullable = true)\n",
      " |-- DS_VT_GAB_OFG_FIN: string (nullable = true)\n",
      " |-- DS_VT_GAB_OCE_ORIG: string (nullable = true)\n",
      " |-- DS_VT_GAB_OCE_FIN: string (nullable = true)\n",
      " |-- DS_VT_ESC_OFG: string (nullable = true)\n",
      " |-- DS_VT_ACE_OFG: string (nullable = true)\n",
      " |-- DS_VT_ESC_OCE: string (nullable = true)\n",
      " |-- DS_VT_ACE_OCE: string (nullable = true)\n",
      " |-- TP_PRES: integer (nullable = true)\n",
      " |-- TP_PR_GER: integer (nullable = true)\n",
      " |-- TP_PR_OB_FG: integer (nullable = true)\n",
      " |-- TP_PR_DI_FG: integer (nullable = true)\n",
      " |-- TP_PR_OB_CE: integer (nullable = true)\n",
      " |-- TP_PR_DI_CE: integer (nullable = true)\n",
      " |-- TP_SFG_D1: integer (nullable = true)\n",
      " |-- TP_SFG_D2: integer (nullable = true)\n",
      " |-- TP_SCE_D1: integer (nullable = true)\n",
      " |-- TP_SCE_D2: integer (nullable = true)\n",
      " |-- TP_SCE_D3: integer (nullable = true)\n",
      " |-- NT_GER: string (nullable = true)\n",
      " |-- NT_FG: string (nullable = true)\n",
      " |-- NT_OBJ_FG: string (nullable = true)\n",
      " |-- NT_DIS_FG: string (nullable = true)\n",
      " |-- NT_FG_D1: string (nullable = true)\n",
      " |-- NT_FG_D1_PT: string (nullable = true)\n",
      " |-- NT_FG_D1_CT: string (nullable = true)\n",
      " |-- NT_FG_D2: string (nullable = true)\n",
      " |-- NT_FG_D2_PT: string (nullable = true)\n",
      " |-- NT_FG_D2_CT: string (nullable = true)\n",
      " |-- NT_CE: string (nullable = true)\n",
      " |-- NT_OBJ_CE: string (nullable = true)\n",
      " |-- NT_DIS_CE: string (nullable = true)\n",
      " |-- NT_CE_D1: string (nullable = true)\n",
      " |-- NT_CE_D2: string (nullable = true)\n",
      " |-- NT_CE_D3: string (nullable = true)\n",
      " |-- CO_RS_I1: string (nullable = true)\n",
      " |-- CO_RS_I2: string (nullable = true)\n",
      " |-- CO_RS_I3: string (nullable = true)\n",
      " |-- CO_RS_I4: string (nullable = true)\n",
      " |-- CO_RS_I5: string (nullable = true)\n",
      " |-- CO_RS_I6: string (nullable = true)\n",
      " |-- CO_RS_I7: string (nullable = true)\n",
      " |-- CO_RS_I8: string (nullable = true)\n",
      " |-- CO_RS_I9: string (nullable = true)\n",
      " |-- QE_I01: string (nullable = true)\n",
      " |-- QE_I02: string (nullable = true)\n",
      " |-- QE_I03: string (nullable = true)\n",
      " |-- QE_I04: string (nullable = true)\n",
      " |-- QE_I05: string (nullable = true)\n",
      " |-- QE_I06: string (nullable = true)\n",
      " |-- QE_I07: string (nullable = true)\n",
      " |-- QE_I08: string (nullable = true)\n",
      " |-- QE_I09: string (nullable = true)\n",
      " |-- QE_I10: string (nullable = true)\n",
      " |-- QE_I11: string (nullable = true)\n",
      " |-- QE_I12: string (nullable = true)\n",
      " |-- QE_I13: string (nullable = true)\n",
      " |-- QE_I14: string (nullable = true)\n",
      " |-- QE_I15: string (nullable = true)\n",
      " |-- QE_I16: string (nullable = true)\n",
      " |-- QE_I17: string (nullable = true)\n",
      " |-- QE_I18: string (nullable = true)\n",
      " |-- QE_I19: string (nullable = true)\n",
      " |-- QE_I20: string (nullable = true)\n",
      " |-- QE_I21: string (nullable = true)\n",
      " |-- QE_I22: string (nullable = true)\n",
      " |-- QE_I23: string (nullable = true)\n",
      " |-- QE_I24: string (nullable = true)\n",
      " |-- QE_I25: string (nullable = true)\n",
      " |-- QE_I26: string (nullable = true)\n",
      " |-- QE_I27: string (nullable = true)\n",
      " |-- QE_I28: string (nullable = true)\n",
      " |-- QE_I29: string (nullable = true)\n",
      " |-- QE_I30: string (nullable = true)\n",
      " |-- QE_I31: string (nullable = true)\n",
      " |-- QE_I32: string (nullable = true)\n",
      " |-- QE_I33: string (nullable = true)\n",
      " |-- QE_I34: string (nullable = true)\n",
      " |-- QE_I35: string (nullable = true)\n",
      " |-- QE_I36: string (nullable = true)\n",
      " |-- QE_I37: string (nullable = true)\n",
      " |-- QE_I38: string (nullable = true)\n",
      " |-- QE_I39: string (nullable = true)\n",
      " |-- QE_I40: string (nullable = true)\n",
      " |-- QE_I41: string (nullable = true)\n",
      " |-- QE_I42: string (nullable = true)\n",
      " |-- QE_I43: string (nullable = true)\n",
      " |-- QE_I44: string (nullable = true)\n",
      " |-- QE_I45: string (nullable = true)\n",
      " |-- QE_I46: string (nullable = true)\n",
      " |-- QE_I47: string (nullable = true)\n",
      " |-- QE_I48: string (nullable = true)\n",
      " |-- QE_I49: string (nullable = true)\n",
      " |-- QE_I50: string (nullable = true)\n",
      " |-- QE_I51: string (nullable = true)\n",
      " |-- QE_I52: string (nullable = true)\n",
      " |-- QE_I53: string (nullable = true)\n",
      " |-- QE_I54: string (nullable = true)\n",
      " |-- QE_I55: string (nullable = true)\n",
      " |-- QE_I56: string (nullable = true)\n",
      " |-- QE_I57: string (nullable = true)\n",
      " |-- QE_I58: string (nullable = true)\n",
      " |-- QE_I59: string (nullable = true)\n",
      " |-- QE_I60: string (nullable = true)\n",
      " |-- QE_I61: string (nullable = true)\n",
      " |-- QE_I62: string (nullable = true)\n",
      " |-- QE_I63: string (nullable = true)\n",
      " |-- QE_I64: string (nullable = true)\n",
      " |-- QE_I65: string (nullable = true)\n",
      " |-- QE_I66: string (nullable = true)\n",
      " |-- QE_I67: string (nullable = true)\n",
      " |-- QE_I68: string (nullable = true)\n",
      "\n"
     ]
    }
   ],
   "source": [
    "df.printSchema()"
   ]
  },
  {
   "cell_type": "markdown",
   "metadata": {},
   "source": [
    "## Selecionando as variáveis de interesse"
   ]
  },
  {
   "cell_type": "code",
   "execution_count": 14,
   "metadata": {},
   "outputs": [],
   "source": [
    "enade = df.select(\n",
    "    \"CO_IES\", \"CO_CATEGAD\", \"CO_GRUPO\", \"CO_MODALIDADE\", \"CO_UF_CURSO\", \"CO_REGIAO_CURSO\",\n",
    "    \"NU_IDADE\", \"TP_SEXO\",\n",
    "    \"NT_GER\", \"NT_FG\", \"NT_CE\",\n",
    "    \"QE_I01\", \"QE_I02\", \"QE_I04\", \"QE_I05\", \"QE_I08\", \"QE_I10\",\n",
    "    \"QE_I11\", \"QE_I14\", \"QE_I15\", \"QE_I23\", \"QE_I25\", \"QE_I26\"\n",
    ")"
   ]
  },
  {
   "cell_type": "code",
   "execution_count": 15,
   "metadata": {},
   "outputs": [
    {
     "name": "stdout",
     "output_type": "stream",
     "text": [
      "+------+----------+--------+-------------+-----------+---------------+--------+-------+------+-----+-----+------+------+------+------+------+------+------+------+------+------+------+------+\n",
      "|CO_IES|CO_CATEGAD|CO_GRUPO|CO_MODALIDADE|CO_UF_CURSO|CO_REGIAO_CURSO|NU_IDADE|TP_SEXO|NT_GER|NT_FG|NT_CE|QE_I01|QE_I02|QE_I04|QE_I05|QE_I08|QE_I10|QE_I11|QE_I14|QE_I15|QE_I23|QE_I25|QE_I26|\n",
      "+------+----------+--------+-------------+-----------+---------------+--------+-------+------+-----+-----+------+------+------+------+------+------+------+------+------+------+------+------+\n",
      "|     1|     10002|    5710|            1|         51|              5|      27|      M|  51,9| 36,5|   57|     E|     C|     D|     E|     B|     A|     A|     A|     A|     D|     E|     C|\n",
      "|     1|     10002|    5710|            1|         51|              5|      26|      M|  54,2| 44,3| 57,5|     A|     A|     E|     D|     E|     A|     A|     A|     A|     D|     E|     C|\n",
      "|     1|     10002|    5710|            1|         51|              5|      23|      M|    NA|   NA|   NA|     A|     A|     E|     E|     E|     B|     A|     A|     D|     B|     B|     A|\n",
      "|     1|     10002|    5710|            1|         51|              5|      24|      M|  42,1| 49,9| 39,5|     A|     D|     F|     F|     E|     A|     A|     A|     A|     D|     C|     F|\n",
      "|     1|     10002|    5710|            1|         51|              5|      41|      M|    NA|   NA|   NA|      |      |      |      |      |      |      |      |      |      |      |      |\n",
      "|     1|     10002|    5710|            1|         51|              5|      26|      M|  49,3| 40,3| 52,3|     A|     A|     E|     E|     C|     D|     A|     A|     A|     E|     C|     E|\n",
      "|     1|     10002|    5710|            1|         51|              5|      24|      M|  49,6| 59,6| 46,2|     A|     A|     E|     E|     E|     A|     A|     A|     A|     C|     B|     A|\n",
      "|     1|     10002|    5710|            1|         51|              5|      28|      F|  43,6| 45,2|   43|     A|     A|     D|     E|     D|     A|     A|     A|     A|     D|     A|     A|\n",
      "|     1|     10002|    5710|            1|         51|              5|      23|      F|  55,3| 45,5| 58,5|     A|     A|     E|     F|     E|     A|     A|     A|     A|     E|     D|     C|\n",
      "|     1|     10002|    5710|            1|         51|              5|      24|      M|  61,6|   59| 62,5|     A|     B|     E|     F|     D|     A|     A|     A|     B|     E|     C|     C|\n",
      "|     1|     10002|    5710|            1|         51|              5|      22|      M|  55,1| 48,5| 57,3|     A|     A|     E|     E|     F|     A|     A|     A|     A|     B|     H|     A|\n",
      "|     1|     10002|    5710|            1|         51|              5|      28|      F|  49,5| 42,8| 51,7|     A|     D|     D|     D|     B|     A|     A|     A|     D|     E|     H|     C|\n",
      "|     1|     10002|    5710|            1|         51|              5|      24|      F|  76,8|   53| 84,7|     A|     D|     C|     B|     C|     E|     A|     A|     D|     B|     B|     A|\n",
      "|     1|     10002|    5710|            1|         51|              5|      21|      M|  70,2| 67,8|   71|     A|     A|     E|     E|     B|     A|     A|     A|     E|     C|     E|     A|\n",
      "|     1|     10002|    5710|            1|         51|              5|      25|      M|  44,1| 27,9| 49,5|     B|     D|     C|     F|     B|     E|     A|     A|     E|     B|     C|     A|\n",
      "|     1|     10002|    5710|            1|         51|              5|      25|      F|  41,2| 46,8| 39,3|     A|     A|     F|     E|     F|     A|     A|     A|     A|     E|     H|     F|\n",
      "|     1|     10002|    5710|            1|         51|              5|      24|      F|  38,8| 42,5| 37,5|     A|     D|     F|     B|     E|     A|     A|     A|     E|     C|     H|     A|\n",
      "|     1|     10002|    5710|            1|         51|              5|      23|      F|  68,3| 72,2|   67|     A|     D|     D|     E|     C|     A|     A|     A|     D|     C|     D|     A|\n",
      "|     1|     10002|    5710|            1|         51|              5|      26|      M|  26,6| 64,8| 13,8|     A|     D|     F|     F|     F|     E|     A|     A|     B|     B|     E|     A|\n",
      "|     1|     10002|    5710|            1|         51|              5|      23|      F|    38| 45,4| 35,5|     A|     A|     E|     E|     E|     A|     A|     A|     A|     C|     E|     C|\n",
      "+------+----------+--------+-------------+-----------+---------------+--------+-------+------+-----+-----+------+------+------+------+------+------+------+------+------+------+------+------+\n",
      "only showing top 20 rows\n",
      "\n"
     ]
    }
   ],
   "source": [
    "enade.show()"
   ]
  },
  {
   "cell_type": "code",
   "execution_count": 34,
   "metadata": {},
   "outputs": [
    {
     "data": {
      "text/plain": [
       "27.621867582328946"
      ]
     },
     "execution_count": 34,
     "metadata": {},
     "output_type": "execute_result"
    }
   ],
   "source": [
    "medidade = enade.select(mean(\"NU_IDADE\")).collect()[0][0]\n",
    "medidade"
   ]
  },
  {
   "cell_type": "code",
   "execution_count": 35,
   "metadata": {},
   "outputs": [
    {
     "name": "stdout",
     "output_type": "stream",
     "text": [
      "+--------+------+-------------------+------------------+\n",
      "|NU_IDADE|NT_GER|          idadecent|   idadeaoquadrado|\n",
      "+--------+------+-------------------+------------------+\n",
      "|      27|  51,9|-0.6218675823289459|0.3867192899516483|\n",
      "|      26|  54,2| -1.621867582328946|  2.63045445460954|\n",
      "|      23|    NA| -4.621867582328946|21.361659948583217|\n",
      "|      24|  42,1| -3.621867582328946|13.117924783925323|\n",
      "|      41|    NA| 13.378132417671054|178.97442698474117|\n",
      "|      26|  49,3| -1.621867582328946|  2.63045445460954|\n",
      "|      24|  49,6| -3.621867582328946|13.117924783925323|\n",
      "|      28|  43,6| 0.3781324176710541|0.1429841252937565|\n",
      "|      23|  55,3| -4.621867582328946|21.361659948583217|\n",
      "|      24|  61,6| -3.621867582328946|13.117924783925323|\n",
      "|      22|  55,1| -5.621867582328946| 31.60539511324111|\n",
      "|      28|  49,5| 0.3781324176710541|0.1429841252937565|\n",
      "|      24|  76,8| -3.621867582328946|13.117924783925323|\n",
      "|      21|  70,2| -6.621867582328946|   43.849130277899|\n",
      "|      25|  44,1| -2.621867582328946| 6.874189619267432|\n",
      "|      25|  41,2| -2.621867582328946| 6.874189619267432|\n",
      "|      24|  38,8| -3.621867582328946|13.117924783925323|\n",
      "|      23|  68,3| -4.621867582328946|21.361659948583217|\n",
      "|      26|  26,6| -1.621867582328946|  2.63045445460954|\n",
      "|      23|    38| -4.621867582328946|21.361659948583217|\n",
      "+--------+------+-------------------+------------------+\n",
      "only showing top 20 rows\n",
      "\n"
     ]
    }
   ],
   "source": [
    "enade\\\n",
    "    .select(\"NU_IDADE\", 'NT_GER')\\\n",
    "    .withColumn(\"idadecent\", col(\"NU_IDADE\") - medidade)\\\n",
    "    .withColumn(\"idadeaoquadrado\", col(\"idadecent\") ** 2)\\\n",
    "    .show()"
   ]
  },
  {
   "cell_type": "code",
   "execution_count": 36,
   "metadata": {},
   "outputs": [],
   "source": [
    "idades = enade\\\n",
    "    .select(\"NU_IDADE\")\\\n",
    "    .withColumn(\"idadecent\", col(\"NU_IDADE\") - medidade)\\\n",
    "    .withColumn(\"idadeaoquadrado\", col(\"idadecent\") ** 2)\\\n",
    "    .select(\"idadecent\", \"idadeaoquadrado\")\\\n",
    "    .collect()"
   ]
  },
  {
   "cell_type": "code",
   "execution_count": 50,
   "metadata": {},
   "outputs": [],
   "source": [
    "import numpy as np"
   ]
  },
  {
   "cell_type": "code",
   "execution_count": 51,
   "metadata": {},
   "outputs": [],
   "source": [
    "idadecent = np.array([idades[i][0] for i in range(len(idades))])\n",
    "idadeaoquadrado = np.array([idades[i][1] for i in range(len(idades))])"
   ]
  },
  {
   "cell_type": "code",
   "execution_count": 55,
   "metadata": {},
   "outputs": [
    {
     "data": {
      "image/png": "[encoded data removed]",
      "text/plain": [
       "<Figure size 432x288 with 1 Axes>"
      ]
     },
     "metadata": {},
     "output_type": "display_data"
    }
   ],
   "source": [
    "import matplotlib.pyplot as plt\n",
    "import seaborn as sns\n",
    "sns.set_style('whitegrid')\n",
    "\n",
    "plt.hist(idadecent, bins=50)\n",
    "plt.title(\"Distribuição da idade centralizada na média\")\n",
    "plt.show()"
   ]
  },
  {
   "cell_type": "code",
   "execution_count": 56,
   "metadata": {},
   "outputs": [
    {
     "data": {
      "image/png": "[encoded data removed]",
      "text/plain": [
       "<Figure size 432x288 with 1 Axes>"
      ]
     },
     "metadata": {},
     "output_type": "display_data"
    }
   ],
   "source": [
    "plt.scatter(idadecent, idadeaoquadrado)\n",
    "plt.show()"
   ]
  },
  {
   "cell_type": "markdown",
   "metadata": {},
   "source": [
    "## Algumas perguntas para responder?\n",
    "\n",
    "1. Qual é a nota geral média dos alunos da região nordeste?\n",
    "\n",
    "2. Qual é a nota geral média dos alunos pretos do estado da Bahia?\n",
    "\n",
    "3. Qual é a média da nota no componente específico dos alunos do Rio grande do Sul no curso de Engenharia Elétrica?\n",
    "\n",
    "4. Qual é a média de nota do componente de formação geral de alunas do sexo feminino, pardas, de Minas gerais em cursos presenciais de Engenharia de Produção?"
   ]
  },
  {
   "cell_type": "code",
   "execution_count": 61,
   "metadata": {},
   "outputs": [
    {
     "name": "stdout",
     "output_type": "stream",
     "text": [
      "+-----------------+\n",
      "|      avg(NT_GER)|\n",
      "+-----------------+\n",
      "|43.53680473372781|\n",
      "+-----------------+\n",
      "\n"
     ]
    }
   ],
   "source": [
    "enade\\\n",
    "    .filter(enade.CO_REGIAO_CURSO == 2)\\\n",
    "    .select(mean(\"NT_GER\")).show()"
   ]
  },
  {
   "cell_type": "code",
   "execution_count": 62,
   "metadata": {},
   "outputs": [
    {
     "name": "stdout",
     "output_type": "stream",
     "text": [
      "+-----------------+\n",
      "|       MED_NT_GER|\n",
      "+-----------------+\n",
      "|40.88992974238876|\n",
      "+-----------------+\n",
      "\n"
     ]
    }
   ],
   "source": [
    "enade\\\n",
    "    .filter( (enade.QE_I02 == 'B') & (enade.CO_UF_CURSO == 29)  )\\\n",
    "    .select(mean(\"NT_GER\").alias('MED_NT_GER')).show()"
   ]
  },
  {
   "cell_type": "code",
   "execution_count": 95,
   "metadata": {},
   "outputs": [],
   "source": [
    "a = np.array(\n",
    "    enade\n",
    "    .filter( (enade.CO_GRUPO == 5806) & (enade.CO_UF_CURSO == 43)  )\n",
    "    .withColumn('nt_ce_f', regexp_replace('NT_CE', ',', '.'))\n",
    "    .withColumn('nt_ce_f', col(\"nt_ce_f\").cast('float'))\n",
    "    .filter(col(\"nt_ce_f\").isNotNull())\n",
    "    .select('nt_ce_f').collect()\n",
    ")"
   ]
  },
  {
   "cell_type": "code",
   "execution_count": 96,
   "metadata": {},
   "outputs": [
    {
     "data": {
      "text/plain": [
       "34.79692636314013"
      ]
     },
     "execution_count": 96,
     "metadata": {},
     "output_type": "execute_result"
    }
   ],
   "source": [
    "a.mean()"
   ]
  },
  {
   "cell_type": "code",
   "execution_count": null,
   "metadata": {},
   "outputs": [],
   "source": []
  },
  {
   "cell_type": "code",
   "execution_count": null,
   "metadata": {},
   "outputs": [],
   "source": []
  },
  {
   "cell_type": "code",
   "execution_count": 101,
   "metadata": {},
   "outputs": [],
   "source": [
    "sc.stop()"
   ]
  }
 ],
 "metadata": {
  "kernelspec": {
   "display_name": "Python 3",
   "language": "python",
   "name": "python3"
  },
  "language_info": {
   "codemirror_mode": {
    "name": "ipython",
    "version": 3
   },
   "file_extension": ".py",
   "mimetype": "text/x-python",
   "name": "python",
   "nbconvert_exporter": "python",
   "pygments_lexer": "ipython3",
   "version": "3.8.3"
  }
 },
 "nbformat": 4,
 "nbformat_minor": 4
}
