{
 "cells": [
  {
   "cell_type": "markdown",
   "metadata": {},
   "source": [
    "# Enade - Transformação de dados - Parte 01"
   ]
  },
  {
   "cell_type": "code",
   "execution_count": 1,
   "metadata": {},
   "outputs": [],
   "source": [
    "import pandas as pd\n",
    "import numpy as np\n",
    "import os"
   ]
  },
  {
   "cell_type": "code",
   "execution_count": 2,
   "metadata": {},
   "outputs": [],
   "source": [
    "enade = pd.read_csv('./enade2019/microdados_enade_2019/2019/3.DADOS/microdados_enade_2019.txt', sep=';', decimal=',')"
   ]
  },
  {
   "cell_type": "code",
   "execution_count": 4,
   "metadata": {},
   "outputs": [
    {
     "data": {
      "text/html": [
       "<div>\n",
       "<style scoped>\n",
       "    .dataframe tbody tr th:only-of-type {\n",
       "        vertical-align: middle;\n",
       "    }\n",
       "\n",
       "    .dataframe tbody tr th {\n",
       "        vertical-align: top;\n",
       "    }\n",
       "\n",
       "    .dataframe thead th {\n",
       "        text-align: right;\n",
       "    }\n",
       "</style>\n",
       "<table border=\"1\" class=\"dataframe\">\n",
       "  <thead>\n",
       "    <tr style=\"text-align: right;\">\n",
       "      <th></th>\n",
       "      <th>NU_ANO</th>\n",
       "      <th>CO_IES</th>\n",
       "      <th>CO_CATEGAD</th>\n",
       "      <th>CO_ORGACAD</th>\n",
       "      <th>CO_GRUPO</th>\n",
       "      <th>CO_CURSO</th>\n",
       "      <th>CO_MODALIDADE</th>\n",
       "      <th>CO_MUNIC_CURSO</th>\n",
       "      <th>CO_UF_CURSO</th>\n",
       "      <th>CO_REGIAO_CURSO</th>\n",
       "      <th>...</th>\n",
       "      <th>QE_I59</th>\n",
       "      <th>QE_I60</th>\n",
       "      <th>QE_I61</th>\n",
       "      <th>QE_I62</th>\n",
       "      <th>QE_I63</th>\n",
       "      <th>QE_I64</th>\n",
       "      <th>QE_I65</th>\n",
       "      <th>QE_I66</th>\n",
       "      <th>QE_I67</th>\n",
       "      <th>QE_I68</th>\n",
       "    </tr>\n",
       "  </thead>\n",
       "  <tbody>\n",
       "    <tr>\n",
       "      <th>0</th>\n",
       "      <td>2019</td>\n",
       "      <td>1</td>\n",
       "      <td>10002</td>\n",
       "      <td>10028</td>\n",
       "      <td>5710</td>\n",
       "      <td>3</td>\n",
       "      <td>1</td>\n",
       "      <td>5103403</td>\n",
       "      <td>51</td>\n",
       "      <td>5</td>\n",
       "      <td>...</td>\n",
       "      <td>2.0</td>\n",
       "      <td>5.0</td>\n",
       "      <td>1.0</td>\n",
       "      <td>1.0</td>\n",
       "      <td>2.0</td>\n",
       "      <td>5.0</td>\n",
       "      <td>8.0</td>\n",
       "      <td>7.0</td>\n",
       "      <td>1.0</td>\n",
       "      <td>2.0</td>\n",
       "    </tr>\n",
       "    <tr>\n",
       "      <th>1</th>\n",
       "      <td>2019</td>\n",
       "      <td>1</td>\n",
       "      <td>10002</td>\n",
       "      <td>10028</td>\n",
       "      <td>5710</td>\n",
       "      <td>3</td>\n",
       "      <td>1</td>\n",
       "      <td>5103403</td>\n",
       "      <td>51</td>\n",
       "      <td>5</td>\n",
       "      <td>...</td>\n",
       "      <td>1.0</td>\n",
       "      <td>4.0</td>\n",
       "      <td>2.0</td>\n",
       "      <td>2.0</td>\n",
       "      <td>2.0</td>\n",
       "      <td>5.0</td>\n",
       "      <td>4.0</td>\n",
       "      <td>4.0</td>\n",
       "      <td>2.0</td>\n",
       "      <td>2.0</td>\n",
       "    </tr>\n",
       "    <tr>\n",
       "      <th>2</th>\n",
       "      <td>2019</td>\n",
       "      <td>1</td>\n",
       "      <td>10002</td>\n",
       "      <td>10028</td>\n",
       "      <td>5710</td>\n",
       "      <td>3</td>\n",
       "      <td>1</td>\n",
       "      <td>5103403</td>\n",
       "      <td>51</td>\n",
       "      <td>5</td>\n",
       "      <td>...</td>\n",
       "      <td>3.0</td>\n",
       "      <td>4.0</td>\n",
       "      <td>4.0</td>\n",
       "      <td>3.0</td>\n",
       "      <td>3.0</td>\n",
       "      <td>4.0</td>\n",
       "      <td>1.0</td>\n",
       "      <td>1.0</td>\n",
       "      <td>1.0</td>\n",
       "      <td>4.0</td>\n",
       "    </tr>\n",
       "    <tr>\n",
       "      <th>3</th>\n",
       "      <td>2019</td>\n",
       "      <td>1</td>\n",
       "      <td>10002</td>\n",
       "      <td>10028</td>\n",
       "      <td>5710</td>\n",
       "      <td>3</td>\n",
       "      <td>1</td>\n",
       "      <td>5103403</td>\n",
       "      <td>51</td>\n",
       "      <td>5</td>\n",
       "      <td>...</td>\n",
       "      <td>3.0</td>\n",
       "      <td>5.0</td>\n",
       "      <td>2.0</td>\n",
       "      <td>2.0</td>\n",
       "      <td>2.0</td>\n",
       "      <td>3.0</td>\n",
       "      <td>3.0</td>\n",
       "      <td>4.0</td>\n",
       "      <td>3.0</td>\n",
       "      <td>3.0</td>\n",
       "    </tr>\n",
       "    <tr>\n",
       "      <th>4</th>\n",
       "      <td>2019</td>\n",
       "      <td>1</td>\n",
       "      <td>10002</td>\n",
       "      <td>10028</td>\n",
       "      <td>5710</td>\n",
       "      <td>3</td>\n",
       "      <td>1</td>\n",
       "      <td>5103403</td>\n",
       "      <td>51</td>\n",
       "      <td>5</td>\n",
       "      <td>...</td>\n",
       "      <td>NaN</td>\n",
       "      <td>NaN</td>\n",
       "      <td>NaN</td>\n",
       "      <td>NaN</td>\n",
       "      <td>NaN</td>\n",
       "      <td>NaN</td>\n",
       "      <td>NaN</td>\n",
       "      <td>NaN</td>\n",
       "      <td>NaN</td>\n",
       "      <td>NaN</td>\n",
       "    </tr>\n",
       "  </tbody>\n",
       "</table>\n",
       "<p>5 rows × 137 columns</p>\n",
       "</div>"
      ],
      "text/plain": [
       "   NU_ANO  CO_IES  CO_CATEGAD  CO_ORGACAD  CO_GRUPO  CO_CURSO  CO_MODALIDADE  \\\n",
       "0    2019       1       10002       10028      5710         3              1   \n",
       "1    2019       1       10002       10028      5710         3              1   \n",
       "2    2019       1       10002       10028      5710         3              1   \n",
       "3    2019       1       10002       10028      5710         3              1   \n",
       "4    2019       1       10002       10028      5710         3              1   \n",
       "\n",
       "   CO_MUNIC_CURSO  CO_UF_CURSO  CO_REGIAO_CURSO  ...  QE_I59 QE_I60  QE_I61  \\\n",
       "0         5103403           51                5  ...     2.0    5.0     1.0   \n",
       "1         5103403           51                5  ...     1.0    4.0     2.0   \n",
       "2         5103403           51                5  ...     3.0    4.0     4.0   \n",
       "3         5103403           51                5  ...     3.0    5.0     2.0   \n",
       "4         5103403           51                5  ...     NaN    NaN     NaN   \n",
       "\n",
       "   QE_I62  QE_I63  QE_I64  QE_I65  QE_I66  QE_I67  QE_I68  \n",
       "0     1.0     2.0     5.0     8.0     7.0     1.0     2.0  \n",
       "1     2.0     2.0     5.0     4.0     4.0     2.0     2.0  \n",
       "2     3.0     3.0     4.0     1.0     1.0     1.0     4.0  \n",
       "3     2.0     2.0     3.0     3.0     4.0     3.0     3.0  \n",
       "4     NaN     NaN     NaN     NaN     NaN     NaN     NaN  \n",
       "\n",
       "[5 rows x 137 columns]"
      ]
     },
     "execution_count": 4,
     "metadata": {},
     "output_type": "execute_result"
    }
   ],
   "source": [
    "enade.head()"
   ]
  },
  {
   "cell_type": "code",
   "execution_count": 6,
   "metadata": {},
   "outputs": [
    {
     "data": {
      "text/plain": [
       "43839"
      ]
     },
     "execution_count": 6,
     "metadata": {},
     "output_type": "execute_result"
    }
   ],
   "source": [
    "# Quantos casos nulos temos?\n",
    "enade.NT_GER.isnull().sum()"
   ]
  },
  {
   "cell_type": "code",
   "execution_count": 7,
   "metadata": {},
   "outputs": [
    {
     "data": {
      "text/plain": [
       "{'NU_ANO': dtype('int64'),\n",
       " 'CO_IES': dtype('int64'),\n",
       " 'CO_CATEGAD': dtype('int64'),\n",
       " 'CO_ORGACAD': dtype('int64'),\n",
       " 'CO_GRUPO': dtype('int64'),\n",
       " 'CO_CURSO': dtype('int64'),\n",
       " 'CO_MODALIDADE': dtype('int64'),\n",
       " 'CO_MUNIC_CURSO': dtype('int64'),\n",
       " 'CO_UF_CURSO': dtype('int64'),\n",
       " 'CO_REGIAO_CURSO': dtype('int64'),\n",
       " 'NU_IDADE': dtype('int64'),\n",
       " 'TP_SEXO': dtype('O'),\n",
       " 'ANO_FIM_EM': dtype('int64'),\n",
       " 'ANO_IN_GRAD': dtype('float64'),\n",
       " 'CO_TURNO_GRADUACAO': dtype('float64'),\n",
       " 'TP_INSCRICAO_ADM': dtype('int64'),\n",
       " 'TP_INSCRICAO': dtype('int64'),\n",
       " 'NU_ITEM_OFG': dtype('int64'),\n",
       " 'NU_ITEM_OFG_Z': dtype('int64'),\n",
       " 'NU_ITEM_OFG_X': dtype('int64'),\n",
       " 'NU_ITEM_OFG_N': dtype('int64'),\n",
       " 'NU_ITEM_OCE': dtype('int64'),\n",
       " 'NU_ITEM_OCE_Z': dtype('int64'),\n",
       " 'NU_ITEM_OCE_X': dtype('int64'),\n",
       " 'NU_ITEM_OCE_N': dtype('int64'),\n",
       " 'DS_VT_GAB_OFG_ORIG': dtype('O'),\n",
       " 'DS_VT_GAB_OFG_FIN': dtype('O'),\n",
       " 'DS_VT_GAB_OCE_ORIG': dtype('O'),\n",
       " 'DS_VT_GAB_OCE_FIN': dtype('O'),\n",
       " 'DS_VT_ESC_OFG': dtype('O'),\n",
       " 'DS_VT_ACE_OFG': dtype('O'),\n",
       " 'DS_VT_ESC_OCE': dtype('O'),\n",
       " 'DS_VT_ACE_OCE': dtype('O'),\n",
       " 'TP_PRES': dtype('int64'),\n",
       " 'TP_PR_GER': dtype('int64'),\n",
       " 'TP_PR_OB_FG': dtype('int64'),\n",
       " 'TP_PR_DI_FG': dtype('int64'),\n",
       " 'TP_PR_OB_CE': dtype('int64'),\n",
       " 'TP_PR_DI_CE': dtype('int64'),\n",
       " 'TP_SFG_D1': dtype('int64'),\n",
       " 'TP_SFG_D2': dtype('int64'),\n",
       " 'TP_SCE_D1': dtype('int64'),\n",
       " 'TP_SCE_D2': dtype('int64'),\n",
       " 'TP_SCE_D3': dtype('int64'),\n",
       " 'NT_GER': dtype('float64'),\n",
       " 'NT_FG': dtype('float64'),\n",
       " 'NT_OBJ_FG': dtype('float64'),\n",
       " 'NT_DIS_FG': dtype('float64'),\n",
       " 'NT_FG_D1': dtype('float64'),\n",
       " 'NT_FG_D1_PT': dtype('float64'),\n",
       " 'NT_FG_D1_CT': dtype('float64'),\n",
       " 'NT_FG_D2': dtype('float64'),\n",
       " 'NT_FG_D2_PT': dtype('float64'),\n",
       " 'NT_FG_D2_CT': dtype('float64'),\n",
       " 'NT_CE': dtype('float64'),\n",
       " 'NT_OBJ_CE': dtype('float64'),\n",
       " 'NT_DIS_CE': dtype('float64'),\n",
       " 'NT_CE_D1': dtype('float64'),\n",
       " 'NT_CE_D2': dtype('float64'),\n",
       " 'NT_CE_D3': dtype('float64'),\n",
       " 'CO_RS_I1': dtype('O'),\n",
       " 'CO_RS_I2': dtype('O'),\n",
       " 'CO_RS_I3': dtype('O'),\n",
       " 'CO_RS_I4': dtype('O'),\n",
       " 'CO_RS_I5': dtype('O'),\n",
       " 'CO_RS_I6': dtype('O'),\n",
       " 'CO_RS_I7': dtype('O'),\n",
       " 'CO_RS_I8': dtype('O'),\n",
       " 'CO_RS_I9': dtype('O'),\n",
       " 'QE_I01': dtype('O'),\n",
       " 'QE_I02': dtype('O'),\n",
       " 'QE_I03': dtype('O'),\n",
       " 'QE_I04': dtype('O'),\n",
       " 'QE_I05': dtype('O'),\n",
       " 'QE_I06': dtype('O'),\n",
       " 'QE_I07': dtype('O'),\n",
       " 'QE_I08': dtype('O'),\n",
       " 'QE_I09': dtype('O'),\n",
       " 'QE_I10': dtype('O'),\n",
       " 'QE_I11': dtype('O'),\n",
       " 'QE_I12': dtype('O'),\n",
       " 'QE_I13': dtype('O'),\n",
       " 'QE_I14': dtype('O'),\n",
       " 'QE_I15': dtype('O'),\n",
       " 'QE_I16': dtype('float64'),\n",
       " 'QE_I17': dtype('O'),\n",
       " 'QE_I18': dtype('O'),\n",
       " 'QE_I19': dtype('O'),\n",
       " 'QE_I20': dtype('O'),\n",
       " 'QE_I21': dtype('O'),\n",
       " 'QE_I22': dtype('O'),\n",
       " 'QE_I23': dtype('O'),\n",
       " 'QE_I24': dtype('O'),\n",
       " 'QE_I25': dtype('O'),\n",
       " 'QE_I26': dtype('O'),\n",
       " 'QE_I27': dtype('float64'),\n",
       " 'QE_I28': dtype('float64'),\n",
       " 'QE_I29': dtype('float64'),\n",
       " 'QE_I30': dtype('float64'),\n",
       " 'QE_I31': dtype('float64'),\n",
       " 'QE_I32': dtype('float64'),\n",
       " 'QE_I33': dtype('float64'),\n",
       " 'QE_I34': dtype('float64'),\n",
       " 'QE_I35': dtype('float64'),\n",
       " 'QE_I36': dtype('float64'),\n",
       " 'QE_I37': dtype('float64'),\n",
       " 'QE_I38': dtype('float64'),\n",
       " 'QE_I39': dtype('float64'),\n",
       " 'QE_I40': dtype('float64'),\n",
       " 'QE_I41': dtype('float64'),\n",
       " 'QE_I42': dtype('float64'),\n",
       " 'QE_I43': dtype('float64'),\n",
       " 'QE_I44': dtype('float64'),\n",
       " 'QE_I45': dtype('float64'),\n",
       " 'QE_I46': dtype('float64'),\n",
       " 'QE_I47': dtype('float64'),\n",
       " 'QE_I48': dtype('float64'),\n",
       " 'QE_I49': dtype('float64'),\n",
       " 'QE_I50': dtype('float64'),\n",
       " 'QE_I51': dtype('float64'),\n",
       " 'QE_I52': dtype('float64'),\n",
       " 'QE_I53': dtype('float64'),\n",
       " 'QE_I54': dtype('float64'),\n",
       " 'QE_I55': dtype('float64'),\n",
       " 'QE_I56': dtype('float64'),\n",
       " 'QE_I57': dtype('float64'),\n",
       " 'QE_I58': dtype('float64'),\n",
       " 'QE_I59': dtype('float64'),\n",
       " 'QE_I60': dtype('float64'),\n",
       " 'QE_I61': dtype('float64'),\n",
       " 'QE_I62': dtype('float64'),\n",
       " 'QE_I63': dtype('float64'),\n",
       " 'QE_I64': dtype('float64'),\n",
       " 'QE_I65': dtype('float64'),\n",
       " 'QE_I66': dtype('float64'),\n",
       " 'QE_I67': dtype('float64'),\n",
       " 'QE_I68': dtype('float64')}"
      ]
     },
     "execution_count": 7,
     "metadata": {},
     "output_type": "execute_result"
    }
   ],
   "source": [
    "dict(enade.dtypes)"
   ]
  },
  {
   "cell_type": "markdown",
   "metadata": {},
   "source": [
    "Para realizar nossas análises, vamos precisar apenas das seguintes colunas:\n",
    "\n",
    "- CO_IES\n",
    "- CO_CATEGAD\n",
    "- CO_GRUPO\n",
    "- CO_MODALIDADE\n",
    "- CO_UF_CURSO\n",
    "- CO_REGIAO_CURSO\n",
    "- NU_IDADE\n",
    "- TP_SEXO\n",
    "- NT_GER\n",
    "- NT_FG\n",
    "- NT_CE\n",
    "- QE_I01 (ESTADO CIVIL)\n",
    "- QE_I02 (COR OU RAÇA)\n",
    "- QE_I04 (ESCOLARIDADE DO PAI)\n",
    "- QE_I05 (ESCOLARIDADE DA MÃE)\n",
    "- QE_I08 (RENDA FAMILIAR)\n",
    "- QE_I10 (SITUAÇÃO DE TRABALHO)\n",
    "- QE_I11 (SITUAÇÃO DE BOLSA)\n",
    "- QE_I14 (INTERCÂMBIO)\n",
    "- QE_I15 (COTAS)\n",
    "- QE_I23 (HORAS DE ESTUDO / SEMANA)\n",
    "- QE_I25 (MOTIVO DE ESCOLHA DO CURSO)\n",
    "- QE_I26 (MOTIVO DE ESCOLHA DA IES)"
   ]
  },
  {
   "cell_type": "code",
   "execution_count": 13,
   "metadata": {},
   "outputs": [
    {
     "data": {
      "text/plain": [
       "count    30769.000000\n",
       "mean        44.604609\n",
       "std         14.489081\n",
       "min          0.000000\n",
       "25%         33.900000\n",
       "50%         44.500000\n",
       "75%         55.300000\n",
       "max         91.600000\n",
       "Name: NT_GER, dtype: float64"
      ]
     },
     "execution_count": 13,
     "metadata": {},
     "output_type": "execute_result"
    }
   ],
   "source": [
    "enade.loc[enade.CO_REGIAO_CURSO == 5].NT_GER.describe()"
   ]
  },
  {
   "cell_type": "code",
   "execution_count": 30,
   "metadata": {},
   "outputs": [
    {
     "data": {
      "text/plain": [
       "count    389730.000000\n",
       "mean         44.117437\n",
       "std          14.486758\n",
       "min           0.300000\n",
       "25%          33.300000\n",
       "50%          43.800000\n",
       "75%          54.800000\n",
       "max          93.000000\n",
       "Name: NT_GER, dtype: float64"
      ]
     },
     "execution_count": 30,
     "metadata": {},
     "output_type": "execute_result"
    }
   ],
   "source": [
    "enade.loc[enade.NT_GER > 0].NT_GER.describe()"
   ]
  },
  {
   "cell_type": "code",
   "execution_count": 34,
   "metadata": {},
   "outputs": [
    {
     "data": {
      "text/plain": [
       "(409543, 137)"
      ]
     },
     "execution_count": 34,
     "metadata": {},
     "output_type": "execute_result"
    }
   ],
   "source": [
    "enade.loc[(enade.NU_IDADE > 16) &\n",
    "          (enade.NU_IDADE < 41)].shape"
   ]
  },
  {
   "cell_type": "code",
   "execution_count": 36,
   "metadata": {},
   "outputs": [
    {
     "data": {
      "text/plain": [
       "F    0.537596\n",
       "M    0.462404\n",
       "Name: TP_SEXO, dtype: float64"
      ]
     },
     "execution_count": 36,
     "metadata": {},
     "output_type": "execute_result"
    }
   ],
   "source": [
    "enade.TP_SEXO.value_counts() / enade.shape[0]"
   ]
  },
  {
   "cell_type": "code",
   "execution_count": 39,
   "metadata": {},
   "outputs": [
    {
     "data": {
      "text/html": [
       "<div>\n",
       "<style scoped>\n",
       "    .dataframe tbody tr th:only-of-type {\n",
       "        vertical-align: middle;\n",
       "    }\n",
       "\n",
       "    .dataframe tbody tr th {\n",
       "        vertical-align: top;\n",
       "    }\n",
       "\n",
       "    .dataframe thead th {\n",
       "        text-align: right;\n",
       "    }\n",
       "</style>\n",
       "<table border=\"1\" class=\"dataframe\">\n",
       "  <thead>\n",
       "    <tr style=\"text-align: right;\">\n",
       "      <th></th>\n",
       "      <th>NT_GER</th>\n",
       "      <th>NT_FG</th>\n",
       "      <th>NT_CE</th>\n",
       "    </tr>\n",
       "  </thead>\n",
       "  <tbody>\n",
       "    <tr>\n",
       "      <th>count</th>\n",
       "      <td>390091.000000</td>\n",
       "      <td>390091.000000</td>\n",
       "      <td>390091.000000</td>\n",
       "    </tr>\n",
       "    <tr>\n",
       "      <th>mean</th>\n",
       "      <td>44.076610</td>\n",
       "      <td>39.837949</td>\n",
       "      <td>45.472874</td>\n",
       "    </tr>\n",
       "    <tr>\n",
       "      <th>std</th>\n",
       "      <td>14.542059</td>\n",
       "      <td>16.241178</td>\n",
       "      <td>16.641654</td>\n",
       "    </tr>\n",
       "    <tr>\n",
       "      <th>min</th>\n",
       "      <td>0.000000</td>\n",
       "      <td>0.000000</td>\n",
       "      <td>0.000000</td>\n",
       "    </tr>\n",
       "    <tr>\n",
       "      <th>25%</th>\n",
       "      <td>33.200000</td>\n",
       "      <td>28.500000</td>\n",
       "      <td>32.900000</td>\n",
       "    </tr>\n",
       "    <tr>\n",
       "      <th>50%</th>\n",
       "      <td>43.800000</td>\n",
       "      <td>39.300000</td>\n",
       "      <td>45.200000</td>\n",
       "    </tr>\n",
       "    <tr>\n",
       "      <th>75%</th>\n",
       "      <td>54.800000</td>\n",
       "      <td>51.300000</td>\n",
       "      <td>57.800000</td>\n",
       "    </tr>\n",
       "    <tr>\n",
       "      <th>max</th>\n",
       "      <td>93.000000</td>\n",
       "      <td>97.800000</td>\n",
       "      <td>100.000000</td>\n",
       "    </tr>\n",
       "  </tbody>\n",
       "</table>\n",
       "</div>"
      ],
      "text/plain": [
       "              NT_GER          NT_FG          NT_CE\n",
       "count  390091.000000  390091.000000  390091.000000\n",
       "mean       44.076610      39.837949      45.472874\n",
       "std        14.542059      16.241178      16.641654\n",
       "min         0.000000       0.000000       0.000000\n",
       "25%        33.200000      28.500000      32.900000\n",
       "50%        43.800000      39.300000      45.200000\n",
       "75%        54.800000      51.300000      57.800000\n",
       "max        93.000000      97.800000     100.000000"
      ]
     },
     "execution_count": 39,
     "metadata": {},
     "output_type": "execute_result"
    }
   ],
   "source": [
    "enade[['NT_GER', 'NT_FG', 'NT_CE']].describe()"
   ]
  },
  {
   "cell_type": "code",
   "execution_count": 41,
   "metadata": {},
   "outputs": [
    {
     "data": {
      "text/html": [
       "<div>\n",
       "<style scoped>\n",
       "    .dataframe tbody tr th:only-of-type {\n",
       "        vertical-align: middle;\n",
       "    }\n",
       "\n",
       "    .dataframe tbody tr th {\n",
       "        vertical-align: top;\n",
       "    }\n",
       "\n",
       "    .dataframe thead th {\n",
       "        text-align: right;\n",
       "    }\n",
       "</style>\n",
       "<table border=\"1\" class=\"dataframe\">\n",
       "  <thead>\n",
       "    <tr style=\"text-align: right;\">\n",
       "      <th></th>\n",
       "      <th>NT_GER</th>\n",
       "      <th>NT_FG</th>\n",
       "      <th>NT_CE</th>\n",
       "    </tr>\n",
       "    <tr>\n",
       "      <th>CO_REGIAO_CURSO</th>\n",
       "      <th></th>\n",
       "      <th></th>\n",
       "      <th></th>\n",
       "    </tr>\n",
       "  </thead>\n",
       "  <tbody>\n",
       "    <tr>\n",
       "      <th>1</th>\n",
       "      <td>40.282753</td>\n",
       "      <td>37.119037</td>\n",
       "      <td>41.320522</td>\n",
       "    </tr>\n",
       "    <tr>\n",
       "      <th>2</th>\n",
       "      <td>43.788555</td>\n",
       "      <td>40.057649</td>\n",
       "      <td>45.015455</td>\n",
       "    </tr>\n",
       "    <tr>\n",
       "      <th>3</th>\n",
       "      <td>44.016319</td>\n",
       "      <td>40.144793</td>\n",
       "      <td>45.290297</td>\n",
       "    </tr>\n",
       "    <tr>\n",
       "      <th>4</th>\n",
       "      <td>45.747187</td>\n",
       "      <td>40.082428</td>\n",
       "      <td>47.618845</td>\n",
       "    </tr>\n",
       "    <tr>\n",
       "      <th>5</th>\n",
       "      <td>44.604609</td>\n",
       "      <td>39.180022</td>\n",
       "      <td>46.396032</td>\n",
       "    </tr>\n",
       "  </tbody>\n",
       "</table>\n",
       "</div>"
      ],
      "text/plain": [
       "                    NT_GER      NT_FG      NT_CE\n",
       "CO_REGIAO_CURSO                                 \n",
       "1                40.282753  37.119037  41.320522\n",
       "2                43.788555  40.057649  45.015455\n",
       "3                44.016319  40.144793  45.290297\n",
       "4                45.747187  40.082428  47.618845\n",
       "5                44.604609  39.180022  46.396032"
      ]
     },
     "execution_count": 41,
     "metadata": {},
     "output_type": "execute_result"
    }
   ],
   "source": [
    "enade.groupby('CO_REGIAO_CURSO').agg({\n",
    "    'NT_GER': 'mean',\n",
    "    'NT_FG': 'mean',\n",
    "    'NT_CE': 'mean'\n",
    "})"
   ]
  },
  {
   "cell_type": "markdown",
   "metadata": {},
   "source": [
    "# Enade - Transformação de Dados - Parte 02"
   ]
  },
  {
   "cell_type": "code",
   "execution_count": 44,
   "metadata": {},
   "outputs": [
    {
     "data": {
      "text/plain": [
       "Solteiro    325716\n",
       "Casado       62814\n",
       "             26055\n",
       "Outro        10250\n",
       "Separado      8424\n",
       "Viúvo          671\n",
       "Name: QE_I01, dtype: int64"
      ]
     },
     "execution_count": 44,
     "metadata": {},
     "output_type": "execute_result"
    }
   ],
   "source": [
    "# Corrigindo as categorias das variáveis de questionário do estudante\n",
    "enade.QE_I01.replace({\n",
    "    'A': 'Solteiro',\n",
    "    'B': 'Casado',\n",
    "    'C': 'Separado',\n",
    "    'D': 'Viúvo',\n",
    "    'E': 'Outro'\n",
    "}).value_counts()"
   ]
  },
  {
   "cell_type": "code",
   "execution_count": 49,
   "metadata": {},
   "outputs": [
    {
     "data": {
      "text/plain": [
       "array(['C', 'A', 'D', ' ', 'B', 'F', 'E'], dtype=object)"
      ]
     },
     "execution_count": 49,
     "metadata": {},
     "output_type": "execute_result"
    }
   ],
   "source": [
    "enade.QE_I02.unique()"
   ]
  },
  {
   "cell_type": "code",
   "execution_count": 51,
   "metadata": {},
   "outputs": [
    {
     "data": {
      "text/plain": [
       "Branca      220386\n",
       "Parda       135770\n",
       "Preta        32869\n",
       "Amarela      10093\n",
       "Indígena      1300\n",
       "Name: QE_I02, dtype: int64"
      ]
     },
     "execution_count": 51,
     "metadata": {},
     "output_type": "execute_result"
    }
   ],
   "source": [
    "enade.QE_I02.replace({\n",
    "    'A': 'Branca',\n",
    "    'B': 'Preta',\n",
    "    'C': 'Amarela',\n",
    "    'D': 'Parda',\n",
    "    'E': 'Indígena',\n",
    "    'F': pd.NA,\n",
    "    ' ': pd.NA\n",
    "}).value_counts()"
   ]
  },
  {
   "cell_type": "markdown",
   "metadata": {},
   "source": [
    "## Algumas perguntas para responder?\n",
    "\n",
    "1. Qual é a nota geral média dos alunos da região nordeste?\n",
    "\n",
    "2. Qual é a nota geral média dos alunos pretos do estado da Bahia?\n",
    "\n",
    "3. Qual é a média da nota no componente específico dos alunos do Rio grande do Sul no curso de Engenharia Elétrica?\n",
    "\n",
    "4. Qual é a média de nota do componente de formação geral de alunas do sexo feminino, pardas, de Minas gerais em cursos presenciais de Engenharia de Produção?"
   ]
  },
  {
   "cell_type": "code",
   "execution_count": 52,
   "metadata": {},
   "outputs": [
    {
     "data": {
      "text/plain": [
       "43.78855492862657"
      ]
     },
     "execution_count": 52,
     "metadata": {},
     "output_type": "execute_result"
    }
   ],
   "source": [
    "enade.loc[\n",
    "    (enade.CO_REGIAO_CURSO == 2),\n",
    "    'NT_GER'\n",
    "].mean()"
   ]
  },
  {
   "cell_type": "code",
   "execution_count": 53,
   "metadata": {},
   "outputs": [
    {
     "data": {
      "text/plain": [
       "41.27752161383287"
      ]
     },
     "execution_count": 53,
     "metadata": {},
     "output_type": "execute_result"
    }
   ],
   "source": [
    "enade.loc[\n",
    "    (enade.QE_I02 == 'B') &\n",
    "    (enade.CO_UF_CURSO == 29),\n",
    "    'NT_GER'\n",
    "].mean()"
   ]
  },
  {
   "cell_type": "code",
   "execution_count": 58,
   "metadata": {},
   "outputs": [
    {
     "data": {
      "text/plain": [
       "34.79692671394829"
      ]
     },
     "execution_count": 58,
     "metadata": {},
     "output_type": "execute_result"
    }
   ],
   "source": [
    "enade.loc[\n",
    "    (enade.CO_GRUPO == 5806) &\n",
    "    (enade.CO_UF_CURSO == 43),\n",
    "    'NT_CE'\n",
    "].mean()"
   ]
  },
  {
   "cell_type": "code",
   "execution_count": 56,
   "metadata": {},
   "outputs": [
    {
     "data": {
      "text/plain": [
       "<matplotlib.axes._subplots.AxesSubplot at 0x25ab8ba9280>"
      ]
     },
     "execution_count": 56,
     "metadata": {},
     "output_type": "execute_result"
    },
    {
     "data": {
      "image/png": "[encoded data removed]",
      "text/plain": [
       "<Figure size 432x288 with 1 Axes>"
      ]
     },
     "metadata": {
      "needs_background": "light"
     },
     "output_type": "display_data"
    }
   ],
   "source": [
    "enade.loc[\n",
    "    (enade.TP_SEXO == 'F') &\n",
    "    (enade.QE_I02 == 'D') &\n",
    "    (enade.CO_UF_CURSO == 31) &\n",
    "    (enade.CO_GRUPO == 6208),\n",
    "    'NT_FG'\n",
    "].mean()"
   ]
  },
  {
   "cell_type": "code",
   "execution_count": null,
   "metadata": {},
   "outputs": [],
   "source": []
  }
 ],
 "metadata": {
  "kernelspec": {
   "display_name": "Python 3",
   "language": "python",
   "name": "python3"
  },
  "language_info": {
   "codemirror_mode": {
    "name": "ipython",
    "version": 3
   },
   "file_extension": ".py",
   "mimetype": "text/x-python",
   "name": "python",
   "nbconvert_exporter": "python",
   "pygments_lexer": "ipython3",
   "version": "3.8.3"
  }
 },
 "nbformat": 4,
 "nbformat_minor": 4
}
